{
  "nbformat": 4,
  "nbformat_minor": 0,
  "metadata": {
    "anaconda-cloud": {},
    "celltoolbar": "Slideshow",
    "kernelspec": {
      "display_name": "Python 3",
      "language": "python",
      "name": "python3"
    },
    "language_info": {
      "codemirror_mode": {
        "name": "ipython",
        "version": 3
      },
      "file_extension": ".py",
      "mimetype": "text/x-python",
      "name": "python",
      "nbconvert_exporter": "python",
      "pygments_lexer": "ipython3",
      "version": "3.7.6"
    },
    "colab": {
      "name": "SQLBasics.ipynb",
      "provenance": [],
      "collapsed_sections": [],
      "include_colab_link": true
    }
  },
  "cells": [
    {
      "cell_type": "markdown",
      "metadata": {
        "id": "view-in-github",
        "colab_type": "text"
      },
      "source": [
        "<a href=\"https://colab.research.google.com/github/PaletteofDesign/sql_basics/blob/main/SQLBasics.ipynb\" target=\"_parent\"><img src=\"https://colab.research.google.com/assets/colab-badge.svg\" alt=\"Open In Colab\"/></a>"
      ]
    },
    {
      "cell_type": "markdown",
      "metadata": {
        "id": "38idX8Wk_xBV"
      },
      "source": [
        "<center>\n",
        "<img src=\"https://course_report_production.s3.amazonaws.com/rich/rich_files/rich_files/2470/s300/cd-logo-blue-600x600.png\" alt=\"Coding Dojo Logo\" class=\"center\" height=\"50\">\n",
        "\n",
        "# SQL Basics Exercise\n",
        "\n",
        "*Make a copy of this notebook to edit!*\n",
        "```\n",
        "File > Save a copy in Drive\n",
        "```\n",
        "    \n",
        "</center>\n",
        "\n",
        "[SQLAlchemy](https://www.sqlalchemy.org/) is a wrapper for Python that allows us to write SQL queries in Python. We will use this to practice our SQL basics in Python.\n",
        "\n",
        "First, we need to connect to a database. We will just read a table into SQL for this step. We will be creating a [SQLite](https://sqlite.org/index.html) database and loading our [data](https://drive.google.com/file/d/18MgOmIHHafoubgp2d_7GM6GWroxb0vPe/view?usp=sharing) into that database.\n",
        "\n",
        "The data (from [this source](https://data.world/sikkim/school)) describes details of various schools."
      ]
    },
    {
      "cell_type": "code",
      "metadata": {
        "id": "4whVGi2Wud1w"
      },
      "source": [
        "# imports\n",
        "import pandas as pd\n",
        "from sqlalchemy import create_engine"
      ],
      "execution_count": 1,
      "outputs": []
    },
    {
      "cell_type": "code",
      "metadata": {
        "id": "9p14osBhUD37",
        "colab": {
          "base_uri": "https://localhost:8080/"
        },
        "outputId": "ce695410-e842-4c0f-cd93-9922ae1be353"
      },
      "source": [
        "# mount data\n",
        "from google.colab import drive\n",
        "drive.mount('/content/drive')"
      ],
      "execution_count": 2,
      "outputs": [
        {
          "output_type": "stream",
          "name": "stdout",
          "text": [
            "Mounted at /content/drive\n"
          ]
        }
      ]
    },
    {
      "cell_type": "code",
      "metadata": {
        "id": "vttB7TWAUF9B",
        "colab": {
          "base_uri": "https://localhost:8080/",
          "height": 323
        },
        "outputId": "c4ab50fc-f0e1-4433-f3ef-4b1c086e75b6"
      },
      "source": [
        "# load data - change the path to match your drive!\n",
        "school = pd.read_csv('/content/School Details.csv')\n",
        "# make sure it loaded correctly\n",
        "school.head(2)"
      ],
      "execution_count": 3,
      "outputs": [
        {
          "output_type": "execute_result",
          "data": {
            "text/html": [
              "<div>\n",
              "<style scoped>\n",
              "    .dataframe tbody tr th:only-of-type {\n",
              "        vertical-align: middle;\n",
              "    }\n",
              "\n",
              "    .dataframe tbody tr th {\n",
              "        vertical-align: top;\n",
              "    }\n",
              "\n",
              "    .dataframe thead th {\n",
              "        text-align: right;\n",
              "    }\n",
              "</style>\n",
              "<table border=\"1\" class=\"dataframe\">\n",
              "  <thead>\n",
              "    <tr style=\"text-align: right;\">\n",
              "      <th></th>\n",
              "      <th>DistrictName</th>\n",
              "      <th>EstablishmentCode</th>\n",
              "      <th>EstablishmentName</th>\n",
              "      <th>BRCName</th>\n",
              "      <th>CRCName</th>\n",
              "      <th>SchoolLevel</th>\n",
              "      <th>ManagementName</th>\n",
              "      <th>LocalityHabitation</th>\n",
              "      <th>SubdivisionName</th>\n",
              "      <th>ConstituencyName</th>\n",
              "      <th>RevenueBlockName</th>\n",
              "      <th>CivicBodyName</th>\n",
              "      <th>WardName</th>\n",
              "      <th>PostOfficeName</th>\n",
              "      <th>PhoneNo</th>\n",
              "      <th>FaxNo</th>\n",
              "      <th>EmailID</th>\n",
              "      <th>Website</th>\n",
              "      <th>LocatedInRuralOrUrban</th>\n",
              "      <th>DiseCode</th>\n",
              "      <th>EstablishedDate</th>\n",
              "      <th>DistrictHQDistance (in Km)</th>\n",
              "      <th>CRCDistance (in Km)</th>\n",
              "      <th>BACDistance (in Km)</th>\n",
              "      <th>IsRecognized</th>\n",
              "      <th>RecognizedBy</th>\n",
              "      <th>ContactPersonName</th>\n",
              "      <th>LowestClass</th>\n",
              "      <th>HighestClass</th>\n",
              "      <th>BoardName</th>\n",
              "    </tr>\n",
              "  </thead>\n",
              "  <tbody>\n",
              "    <tr>\n",
              "      <th>0</th>\n",
              "      <td>East</td>\n",
              "      <td>S0169</td>\n",
              "      <td>BUDANG GOVERNMENT PRIMARY SCHOOL (E)</td>\n",
              "      <td>Duga Brc</td>\n",
              "      <td>Central Pendam Government Senior Secondary School</td>\n",
              "      <td>PS</td>\n",
              "      <td>State Govt.</td>\n",
              "      <td>BUDANG</td>\n",
              "      <td>Gangtok</td>\n",
              "      <td>Rhenock</td>\n",
              "      <td>Central Pendam</td>\n",
              "      <td>Central Pendam</td>\n",
              "      <td>Sajong</td>\n",
              "      <td>Upper Pendam</td>\n",
              "      <td>NaN</td>\n",
              "      <td>NaN</td>\n",
              "      <td>NaN</td>\n",
              "      <td>NaN</td>\n",
              "      <td>Urban Area</td>\n",
              "      <td>NaN</td>\n",
              "      <td>28126</td>\n",
              "      <td>58.0</td>\n",
              "      <td>8.0</td>\n",
              "      <td>16.0</td>\n",
              "      <td>Recognized</td>\n",
              "      <td>HRDD</td>\n",
              "      <td>NaN</td>\n",
              "      <td>Class 1</td>\n",
              "      <td>Class 5</td>\n",
              "      <td>NaN</td>\n",
              "    </tr>\n",
              "    <tr>\n",
              "      <th>1</th>\n",
              "      <td>East</td>\n",
              "      <td>S0099</td>\n",
              "      <td>CENTRAL PENDAM GOVERNMENT SENIOR SECONDARY SCHOOL</td>\n",
              "      <td>Duga Brc</td>\n",
              "      <td>Central Pendam Government Senior Secondary School</td>\n",
              "      <td>SSS</td>\n",
              "      <td>State Govt.</td>\n",
              "      <td>CENTRAL PENDAM</td>\n",
              "      <td>Gangtok</td>\n",
              "      <td>West Pandam</td>\n",
              "      <td>Central Pendam</td>\n",
              "      <td>Central Pendam</td>\n",
              "      <td>Karmithang</td>\n",
              "      <td>Upper Pendam</td>\n",
              "      <td>3592263812</td>\n",
              "      <td>NaN</td>\n",
              "      <td>NaN</td>\n",
              "      <td>NaN</td>\n",
              "      <td>Urban Area</td>\n",
              "      <td>800401</td>\n",
              "      <td>15342</td>\n",
              "      <td>50.0</td>\n",
              "      <td>0.0</td>\n",
              "      <td>6.0</td>\n",
              "      <td>Recognized</td>\n",
              "      <td>HRDD</td>\n",
              "      <td>NaN</td>\n",
              "      <td>Class 1</td>\n",
              "      <td>Class 12</td>\n",
              "      <td>C.B.S.E.</td>\n",
              "    </tr>\n",
              "  </tbody>\n",
              "</table>\n",
              "</div>"
            ],
            "text/plain": [
              "  DistrictName EstablishmentCode  ... HighestClass BoardName\n",
              "0         East             S0169  ...      Class 5       NaN\n",
              "1         East             S0099  ...     Class 12  C.B.S.E.\n",
              "\n",
              "[2 rows x 30 columns]"
            ]
          },
          "metadata": {},
          "execution_count": 3
        }
      ]
    },
    {
      "cell_type": "code",
      "metadata": {
        "id": "PQGdfEEEudzI"
      },
      "source": [
        "# create sqlite engine\n",
        "engine = create_engine('sqlite:///school.db', echo=True)\n",
        "# create connection to engine\n",
        "conn = engine.connect()"
      ],
      "execution_count": 4,
      "outputs": []
    },
    {
      "cell_type": "code",
      "metadata": {
        "id": "OudkpXECuz2n",
        "colab": {
          "base_uri": "https://localhost:8080/"
        },
        "outputId": "b6dc032a-1525-4f79-80d8-e08348a80c19"
      },
      "source": [
        "# add the dataframe as a table in sqlite\n",
        "sqlite_table = \"school_details\"\n",
        "school.to_sql(sqlite_table, conn, if_exists='fail')"
      ],
      "execution_count": 5,
      "outputs": [
        {
          "output_type": "stream",
          "name": "stdout",
          "text": [
            "2021-10-06 22:40:03,482 INFO sqlalchemy.engine.Engine PRAGMA main.table_info(\"school_details\")\n",
            "2021-10-06 22:40:03,484 INFO sqlalchemy.engine.Engine [raw sql] ()\n",
            "2021-10-06 22:40:03,487 INFO sqlalchemy.engine.Engine PRAGMA temp.table_info(\"school_details\")\n",
            "2021-10-06 22:40:03,489 INFO sqlalchemy.engine.Engine [raw sql] ()\n",
            "2021-10-06 22:40:03,503 INFO sqlalchemy.engine.Engine \n",
            "CREATE TABLE school_details (\n",
            "\t\"index\" BIGINT, \n",
            "\t\"DistrictName\" TEXT, \n",
            "\t\"EstablishmentCode\" TEXT, \n",
            "\t\"EstablishmentName\" TEXT, \n",
            "\t\"BRCName\" TEXT, \n",
            "\t\"CRCName\" TEXT, \n",
            "\t\"SchoolLevel\" TEXT, \n",
            "\t\"ManagementName\" TEXT, \n",
            "\t\"LocalityHabitation\" TEXT, \n",
            "\t\"SubdivisionName\" TEXT, \n",
            "\t\"ConstituencyName\" TEXT, \n",
            "\t\"RevenueBlockName\" TEXT, \n",
            "\t\"CivicBodyName\" TEXT, \n",
            "\t\"WardName\" TEXT, \n",
            "\t\"PostOfficeName\" TEXT, \n",
            "\t\"PhoneNo\" TEXT, \n",
            "\t\"FaxNo\" TEXT, \n",
            "\t\"EmailID\" TEXT, \n",
            "\t\"Website\" TEXT, \n",
            "\t\"LocatedInRuralOrUrban\" TEXT, \n",
            "\t\"DiseCode\" TEXT, \n",
            "\t\"EstablishedDate\" TEXT, \n",
            "\t\"DistrictHQDistance (in Km)\" FLOAT, \n",
            "\t\"CRCDistance (in Km)\" FLOAT, \n",
            "\t\"BACDistance (in Km)\" FLOAT, \n",
            "\t\"IsRecognized\" TEXT, \n",
            "\t\"RecognizedBy\" TEXT, \n",
            "\t\"ContactPersonName\" FLOAT, \n",
            "\t\"LowestClass\" TEXT, \n",
            "\t\"HighestClass\" TEXT, \n",
            "\t\"BoardName\" TEXT\n",
            ")\n",
            "\n",
            "\n",
            "2021-10-06 22:40:03,505 INFO sqlalchemy.engine.Engine [no key 0.00177s] ()\n",
            "2021-10-06 22:40:03,532 INFO sqlalchemy.engine.Engine COMMIT\n",
            "2021-10-06 22:40:03,534 INFO sqlalchemy.engine.Engine CREATE INDEX ix_school_details_index ON school_details (\"index\")\n",
            "2021-10-06 22:40:03,535 INFO sqlalchemy.engine.Engine [no key 0.00151s] ()\n",
            "2021-10-06 22:40:03,551 INFO sqlalchemy.engine.Engine COMMIT\n",
            "2021-10-06 22:40:03,561 INFO sqlalchemy.engine.Engine BEGIN (implicit)\n",
            "2021-10-06 22:40:03,635 INFO sqlalchemy.engine.Engine INSERT INTO school_details (\"index\", \"DistrictName\", \"EstablishmentCode\", \"EstablishmentName\", \"BRCName\", \"CRCName\", \"SchoolLevel\", \"ManagementName\", \"LocalityHabitation\", \"SubdivisionName\", \"ConstituencyName\", \"RevenueBlockName\", \"CivicBodyName\", \"WardName\", \"PostOfficeName\", \"PhoneNo\", \"FaxNo\", \"EmailID\", \"Website\", \"LocatedInRuralOrUrban\", \"DiseCode\", \"EstablishedDate\", \"DistrictHQDistance (in Km)\", \"CRCDistance (in Km)\", \"BACDistance (in Km)\", \"IsRecognized\", \"RecognizedBy\", \"ContactPersonName\", \"LowestClass\", \"HighestClass\", \"BoardName\") VALUES (?, ?, ?, ?, ?, ?, ?, ?, ?, ?, ?, ?, ?, ?, ?, ?, ?, ?, ?, ?, ?, ?, ?, ?, ?, ?, ?, ?, ?, ?, ?)\n",
            "2021-10-06 22:40:03,637 INFO sqlalchemy.engine.Engine [generated in 0.06621s] ((0, 'East', 'S0169', 'BUDANG GOVERNMENT PRIMARY SCHOOL (E)', 'Duga Brc', 'Central Pendam Government Senior Secondary School', 'PS', 'State Govt.', 'BUDANG', 'Gangtok', 'Rhenock', 'Central Pendam', 'Central Pendam', 'Sajong', 'Upper Pendam', None, None, None, None, 'Urban Area', None, '28126', 58.0, 8.0, 16.0, 'Recognized', 'HRDD', None, 'Class 1', 'Class 5', None), (1, 'East', 'S0099', 'CENTRAL PENDAM GOVERNMENT SENIOR SECONDARY SCHOOL', 'Duga Brc', 'Central Pendam Government Senior Secondary School', 'SSS', 'State Govt.', 'CENTRAL PENDAM', 'Gangtok', 'West Pandam', 'Central Pendam', 'Central Pendam', 'Karmithang', 'Upper Pendam', '3592263812', None, None, None, 'Urban Area', '800401', '15342', 50.0, 0.0, 6.0, 'Recognized', 'HRDD', None, 'Class 1', 'Class 12', 'C.B.S.E.'), (2, 'East', 'S0848', 'CENTRAL POINT ACADEMY, CENTRAL PENDAM', 'Duga Brc', 'Central Pendam Government Senior Secondary School', 'SS', 'Private (Unaided)', 'UPPER BHURUNG CENTRAL PENDAM', 'Gangtok', 'West Pandam', 'Central Pendam', 'Central Pendam', 'Burung', 'Upper Pendam', '03592263809/263960', None, 'ksu_5162@yahoo.com', 'www.facebook.com/khanalkeshav (Group-CPA)', 'Urban Area', None, '37257.38680555556', 49.0, 1.5, 6.0, 'Recognized', 'HRDD, GOVT. OF SIKKIM', None, 'Class 1', 'Class 10', 'C.B.S.E.'), (3, 'East', 'S0190', 'CHEURIBOTEY GOVERNMENT JUNIOR HIGH SCHOOL (E)', 'Duga Brc', 'Central Pendam Government Senior Secondary School', 'JHS', 'State Govt.', 'CHEURIBOTEY', 'Gangtok', 'West Pandam', 'Central Pendam', 'Central Pendam', 'Cheuribotey', 'Duga', None, None, None, None, 'Urban Area', None, '28856', 60.0, 6.0, 6.0, 'Recognized', 'State Govt.', None, 'Class 1', 'Class 8', None), (4, 'East', 'S0111', 'DUGA GOVERNMENT SECONDARY SCHOOL', 'Duga Brc', 'Central Pendam Government Senior Secondary School', 'SS', 'State Govt.', 'DUGA', 'Gangtok', 'West Pandam', 'Central Pendam', 'Central Pendam', 'Duga', 'Duga', '9832082915', None, 'dugaschool@gmail.com', None, 'Urban Area', None, '1828', 52.0, 0.0, 0.5, 'Recognized', 'c.b.s.e.', None, 'Class 1', 'Class 10', 'C.B.S.E.'), (5, 'East', 'S0856', 'EASWARAMMA SAI GURUKOOL ACCADEMY', 'Duga Brc', 'Central Pendam Government Senior Secondary School', 'PS', 'Private (Unaided)', 'RALUNG', 'Gangtok', 'West Pandam', 'Central Pendam', 'West Pendam', 'Ralang', 'West Pendam', '9733056624', None, None, None, 'Urban Area', None, '40179.66805555556', 0.0, 0.2, 0.2, 'Recognized', None, None, 'Class 1', 'Class 5', None), (6, 'East', 'S0870', 'ETERNAL ENGLISH SCHOOL, WEST PENDAM', 'Duga Brc', 'Central Pendam Government Senior Secondary School', 'PS', 'Private (Unaided)', 'SAKHU WEST PENDAM', 'Gangtok', 'West Pandam', 'West Pendam', 'West Pendam', 'Sakhu', 'Sakhu Busty', '9734190544', None, None, None, 'Urban Area', None, '37300.66805555556', 42.0, 3.0, 4.0, 'Recognized', 'HRDD OF SIKKIM', None, 'Class 1', 'Class 5', None), (7, 'East', 'S0157', 'KHANI GOAN GOVERNMENT PRIMARY SCHOOL', 'Duga Brc', 'Central Pendam Government Senior Secondary School', 'PS', 'State Govt.', 'WEST PENDAM', 'Gangtok', 'West Pandam', 'West Pendam', 'West Pendam', 'Khanigaon', 'West Pendam', '9832470263', None, None, None, 'Urban Area', '801801', '29587', 45.0, 5.0, 4.0, 'Recognized', 'State Govt.', None, 'Class 1', 'Class 5', 'C.B.S.E.')  ... displaying 10 of 1249 total bound parameter sets ...  (1247, 'West', 'S0340', 'TINGTING GAON GOVERNMENT PRIMARY SCHOOL', 'Yuksom Brc', 'Yuksom Government Secondary School', 'PS', 'State Govt.', 'TING TING GAON', 'Gyalshing', 'Yoksam-Tashiding', 'Yoksam', 'Yuksom', 'Tingting', 'Yuksom', '9593377402', None, None, None, 'Urban Area', '100282', '29587', 36.0, 3.0, 6.0, 'Recognized', 'STATE GOVERNMENT', None, 'Class 1', 'Class 5', None), (1248, 'West', 'S0542', 'TSONG GOVERNMENT PRIMARY SCHOOL', 'Yuksom Brc', 'Yuksom Government Secondary School', 'PS', 'State Govt.', 'TSONG', 'Gyalshing', 'Yoksam-Tashiding', 'Yoksam', 'Yuksom', 'Yoksam', 'Yuksom', None, None, None, None, 'Urban Area', None, '28176', 40.0, 7.0, 8.0, 'Recognized', 'State Government', None, 'Class 1', 'Class 5', 'C.B.S.E.'))\n",
            "2021-10-06 22:40:03,665 INFO sqlalchemy.engine.Engine COMMIT\n"
          ]
        }
      ]
    },
    {
      "cell_type": "markdown",
      "metadata": {
        "id": "josvz8RqutAv"
      },
      "source": [
        "## SELECT & FROM\n",
        "\n",
        "1. Get the EstablishmentName, SchoolLevel, and Website columns.\n",
        "\n",
        "We can actually use Pandas to run SQL queries! To do this, we write a SQL query in a multi-line string. Simply replace the text in the multi-line string below with your SQL query and run the cell to query your data."
      ]
    },
    {
      "cell_type": "code",
      "metadata": {
        "id": "dD-WyYtBuzuu",
        "colab": {
          "base_uri": "https://localhost:8080/",
          "height": 293
        },
        "outputId": "5cc1e5c5-9514-46db-af14-183d84919a4d"
      },
      "source": [
        "# Write your SQL query in this string\n",
        "sql = \"\"\"\n",
        "SELECT EstablishmentName, SchoolLevel, Website\n",
        "FROM school_details\n",
        "\"\"\"\n",
        "\n",
        "# Read the sql query into pandas to view the results\n",
        "df = pd.read_sql_query(sql, engine)\n",
        "df.head()"
      ],
      "execution_count": 9,
      "outputs": [
        {
          "output_type": "stream",
          "name": "stdout",
          "text": [
            "2021-10-06 23:57:12,769 INFO sqlalchemy.engine.Engine \n",
            "SELECT EstablishmentName, SchoolLevel, Website\n",
            "FROM school_details\n",
            "\n",
            "2021-10-06 23:57:12,771 INFO sqlalchemy.engine.Engine [raw sql] ()\n"
          ]
        },
        {
          "output_type": "execute_result",
          "data": {
            "text/html": [
              "<div>\n",
              "<style scoped>\n",
              "    .dataframe tbody tr th:only-of-type {\n",
              "        vertical-align: middle;\n",
              "    }\n",
              "\n",
              "    .dataframe tbody tr th {\n",
              "        vertical-align: top;\n",
              "    }\n",
              "\n",
              "    .dataframe thead th {\n",
              "        text-align: right;\n",
              "    }\n",
              "</style>\n",
              "<table border=\"1\" class=\"dataframe\">\n",
              "  <thead>\n",
              "    <tr style=\"text-align: right;\">\n",
              "      <th></th>\n",
              "      <th>EstablishmentName</th>\n",
              "      <th>SchoolLevel</th>\n",
              "      <th>Website</th>\n",
              "    </tr>\n",
              "  </thead>\n",
              "  <tbody>\n",
              "    <tr>\n",
              "      <th>0</th>\n",
              "      <td>BUDANG GOVERNMENT PRIMARY SCHOOL (E)</td>\n",
              "      <td>PS</td>\n",
              "      <td>None</td>\n",
              "    </tr>\n",
              "    <tr>\n",
              "      <th>1</th>\n",
              "      <td>CENTRAL PENDAM GOVERNMENT SENIOR SECONDARY SCHOOL</td>\n",
              "      <td>SSS</td>\n",
              "      <td>None</td>\n",
              "    </tr>\n",
              "    <tr>\n",
              "      <th>2</th>\n",
              "      <td>CENTRAL POINT ACADEMY, CENTRAL PENDAM</td>\n",
              "      <td>SS</td>\n",
              "      <td>www.facebook.com/khanalkeshav (Group-CPA)</td>\n",
              "    </tr>\n",
              "    <tr>\n",
              "      <th>3</th>\n",
              "      <td>CHEURIBOTEY GOVERNMENT JUNIOR HIGH SCHOOL (E)</td>\n",
              "      <td>JHS</td>\n",
              "      <td>None</td>\n",
              "    </tr>\n",
              "    <tr>\n",
              "      <th>4</th>\n",
              "      <td>DUGA GOVERNMENT SECONDARY SCHOOL</td>\n",
              "      <td>SS</td>\n",
              "      <td>None</td>\n",
              "    </tr>\n",
              "  </tbody>\n",
              "</table>\n",
              "</div>"
            ],
            "text/plain": [
              "                                   EstablishmentName  ...                                    Website\n",
              "0               BUDANG GOVERNMENT PRIMARY SCHOOL (E)  ...                                       None\n",
              "1  CENTRAL PENDAM GOVERNMENT SENIOR SECONDARY SCHOOL  ...                                       None\n",
              "2              CENTRAL POINT ACADEMY, CENTRAL PENDAM  ...  www.facebook.com/khanalkeshav (Group-CPA)\n",
              "3      CHEURIBOTEY GOVERNMENT JUNIOR HIGH SCHOOL (E)  ...                                       None\n",
              "4                   DUGA GOVERNMENT SECONDARY SCHOOL  ...                                       None\n",
              "\n",
              "[5 rows x 3 columns]"
            ]
          },
          "metadata": {},
          "execution_count": 9
        }
      ]
    },
    {
      "cell_type": "markdown",
      "metadata": {
        "id": "2hrqy6KgvOdh"
      },
      "source": [
        "## WHERE\n",
        "\n",
        "2. Display the EstablishmentName and DistrictHQDistance (in Km) for schools where the DistrictHQDistance (in Km) is more than 100 Km."
      ]
    },
    {
      "cell_type": "code",
      "metadata": {
        "id": "NkjPihzvudvR",
        "colab": {
          "base_uri": "https://localhost:8080/",
          "height": 310
        },
        "outputId": "4df8ae6c-6b59-4a38-89d1-2b377ffbb27c"
      },
      "source": [
        "# Write your SQL query in this string\n",
        "sql = \"\"\"\n",
        "SELECT EstablishmentName, \"DistrictHQDistance (in Km)\"\n",
        "FROM school_details\n",
        "WHERE \"DistrictHQDistance (in Km)\" > 100\n",
        "\"\"\"\n",
        "\n",
        "# Read the sql query into pandas to view the results\n",
        "df = pd.read_sql_query(sql, engine)\n",
        "df.head()"
      ],
      "execution_count": 10,
      "outputs": [
        {
          "output_type": "stream",
          "name": "stdout",
          "text": [
            "2021-10-06 23:57:48,888 INFO sqlalchemy.engine.Engine \n",
            "SELECT EstablishmentName, \"DistrictHQDistance (in Km)\"\n",
            "FROM school_details\n",
            "WHERE \"DistrictHQDistance (in Km)\" > 100\n",
            "\n",
            "2021-10-06 23:57:48,893 INFO sqlalchemy.engine.Engine [raw sql] ()\n"
          ]
        },
        {
          "output_type": "execute_result",
          "data": {
            "text/html": [
              "<div>\n",
              "<style scoped>\n",
              "    .dataframe tbody tr th:only-of-type {\n",
              "        vertical-align: middle;\n",
              "    }\n",
              "\n",
              "    .dataframe tbody tr th {\n",
              "        vertical-align: top;\n",
              "    }\n",
              "\n",
              "    .dataframe thead th {\n",
              "        text-align: right;\n",
              "    }\n",
              "</style>\n",
              "<table border=\"1\" class=\"dataframe\">\n",
              "  <thead>\n",
              "    <tr style=\"text-align: right;\">\n",
              "      <th></th>\n",
              "      <th>EstablishmentName</th>\n",
              "      <th>DistrictHQDistance (in Km)</th>\n",
              "    </tr>\n",
              "  </thead>\n",
              "  <tbody>\n",
              "    <tr>\n",
              "      <th>0</th>\n",
              "      <td>DODACHEN GOVERNMENT PRIMARY SCHOOL</td>\n",
              "      <td>150.0</td>\n",
              "    </tr>\n",
              "    <tr>\n",
              "      <th>1</th>\n",
              "      <td>DEOLING GOVERNMENT PRIMARY SCHOOL</td>\n",
              "      <td>107.0</td>\n",
              "    </tr>\n",
              "    <tr>\n",
              "      <th>2</th>\n",
              "      <td>PEMA TSEL ACADEMY(PHADAMCHEN)</td>\n",
              "      <td>110.0</td>\n",
              "    </tr>\n",
              "    <tr>\n",
              "      <th>3</th>\n",
              "      <td>ZULUCK GOVERNMENT PRIMARY SCHOOL</td>\n",
              "      <td>120.0</td>\n",
              "    </tr>\n",
              "    <tr>\n",
              "      <th>4</th>\n",
              "      <td>BHARENG GOVERNMENT PRIMARY SCHOOL</td>\n",
              "      <td>150.0</td>\n",
              "    </tr>\n",
              "  </tbody>\n",
              "</table>\n",
              "</div>"
            ],
            "text/plain": [
              "                    EstablishmentName  DistrictHQDistance (in Km)\n",
              "0  DODACHEN GOVERNMENT PRIMARY SCHOOL                       150.0\n",
              "1   DEOLING GOVERNMENT PRIMARY SCHOOL                       107.0\n",
              "2       PEMA TSEL ACADEMY(PHADAMCHEN)                       110.0\n",
              "3    ZULUCK GOVERNMENT PRIMARY SCHOOL                       120.0\n",
              "4   BHARENG GOVERNMENT PRIMARY SCHOOL                       150.0"
            ]
          },
          "metadata": {},
          "execution_count": 10
        }
      ]
    },
    {
      "cell_type": "markdown",
      "metadata": {
        "id": "bodZsD2av1dD"
      },
      "source": [
        "3. Display the EstablishmentName, SchoolLevel, DistrictHQDistance (in Km) for schools where the school level is \"JHS.\""
      ]
    },
    {
      "cell_type": "code",
      "metadata": {
        "id": "nyKYBoMuwCbR",
        "colab": {
          "base_uri": "https://localhost:8080/",
          "height": 310
        },
        "outputId": "4b00e627-6b19-4c13-baf0-ba03f41c0068"
      },
      "source": [
        "# Write your SQL query in this string\n",
        "sql = \"\"\"\n",
        "SELECT EstablishmentName, SchoolLevel, \"DistrictHQDistance (in Km)\"\n",
        "FROM school_details\n",
        "WHERE SchoolLevel =  \"JHS\"\n",
        "\"\"\"\n",
        "\n",
        "# Read the sql query into pandas to view the results\n",
        "df = pd.read_sql_query(sql, engine)\n",
        "df.head()"
      ],
      "execution_count": 11,
      "outputs": [
        {
          "output_type": "stream",
          "name": "stdout",
          "text": [
            "2021-10-06 23:59:25,377 INFO sqlalchemy.engine.Engine \n",
            "SELECT EstablishmentName, SchoolLevel, \"DistrictHQDistance (in Km)\"\n",
            "FROM school_details\n",
            "WHERE SchoolLevel =  \"JHS\"\n",
            "\n",
            "2021-10-06 23:59:25,379 INFO sqlalchemy.engine.Engine [raw sql] ()\n"
          ]
        },
        {
          "output_type": "execute_result",
          "data": {
            "text/html": [
              "<div>\n",
              "<style scoped>\n",
              "    .dataframe tbody tr th:only-of-type {\n",
              "        vertical-align: middle;\n",
              "    }\n",
              "\n",
              "    .dataframe tbody tr th {\n",
              "        vertical-align: top;\n",
              "    }\n",
              "\n",
              "    .dataframe thead th {\n",
              "        text-align: right;\n",
              "    }\n",
              "</style>\n",
              "<table border=\"1\" class=\"dataframe\">\n",
              "  <thead>\n",
              "    <tr style=\"text-align: right;\">\n",
              "      <th></th>\n",
              "      <th>EstablishmentName</th>\n",
              "      <th>SchoolLevel</th>\n",
              "      <th>DistrictHQDistance (in Km)</th>\n",
              "    </tr>\n",
              "  </thead>\n",
              "  <tbody>\n",
              "    <tr>\n",
              "      <th>0</th>\n",
              "      <td>CHEURIBOTEY GOVERNMENT JUNIOR HIGH SCHOOL (E)</td>\n",
              "      <td>JHS</td>\n",
              "      <td>60.0</td>\n",
              "    </tr>\n",
              "    <tr>\n",
              "      <th>1</th>\n",
              "      <td>PADMA KUMARI PUBLIC SCHOOL, DUGA</td>\n",
              "      <td>JHS</td>\n",
              "      <td>48.0</td>\n",
              "    </tr>\n",
              "    <tr>\n",
              "      <th>2</th>\n",
              "      <td>SAJONG GOVERNMENT JUNIOR HIGH SCHOOL</td>\n",
              "      <td>JHS</td>\n",
              "      <td>57.0</td>\n",
              "    </tr>\n",
              "    <tr>\n",
              "      <th>3</th>\n",
              "      <td>SINGLEYBONG GOVERNMENT JUNIOR HIGH SCHOOL</td>\n",
              "      <td>JHS</td>\n",
              "      <td>38.0</td>\n",
              "    </tr>\n",
              "    <tr>\n",
              "      <th>4</th>\n",
              "      <td>SUNRISE ACADEMY, DUGA</td>\n",
              "      <td>JHS</td>\n",
              "      <td>47.0</td>\n",
              "    </tr>\n",
              "  </tbody>\n",
              "</table>\n",
              "</div>"
            ],
            "text/plain": [
              "                               EstablishmentName  ... DistrictHQDistance (in Km)\n",
              "0  CHEURIBOTEY GOVERNMENT JUNIOR HIGH SCHOOL (E)  ...                       60.0\n",
              "1               PADMA KUMARI PUBLIC SCHOOL, DUGA  ...                       48.0\n",
              "2           SAJONG GOVERNMENT JUNIOR HIGH SCHOOL  ...                       57.0\n",
              "3      SINGLEYBONG GOVERNMENT JUNIOR HIGH SCHOOL  ...                       38.0\n",
              "4                          SUNRISE ACADEMY, DUGA  ...                       47.0\n",
              "\n",
              "[5 rows x 3 columns]"
            ]
          },
          "metadata": {},
          "execution_count": 11
        }
      ]
    },
    {
      "cell_type": "markdown",
      "metadata": {
        "id": "XXeG19hywLlp"
      },
      "source": [
        "## Wildcards & LIKE\n",
        "\n",
        "4. Display the EstablishmentName, SchoolLevel, DistrictHQDistance (in Km) for schools where the name of the school contains the words \"JUNIOR HIGH.\""
      ]
    },
    {
      "cell_type": "code",
      "metadata": {
        "id": "_JlXTE_ywUeQ",
        "colab": {
          "base_uri": "https://localhost:8080/",
          "height": 310
        },
        "outputId": "8ab9bac7-3f54-440d-c440-624ed0d82bae"
      },
      "source": [
        "# Write your SQL query in this string\n",
        "sql = \"\"\"\n",
        "SELECT EstablishmentName, SchoolLevel, \"DistanceHQDistance (in Km)\"\n",
        "FROM school_details\n",
        "WHERE EstablishmentName LIKE \"%JUNIOR HIGH%\"\n",
        "\"\"\"\n",
        "\n",
        "# Read the sql query into pandas to view the results\n",
        "df = pd.read_sql_query(sql, engine)\n",
        "df.head()"
      ],
      "execution_count": 13,
      "outputs": [
        {
          "output_type": "stream",
          "name": "stdout",
          "text": [
            "2021-10-07 00:03:40,265 INFO sqlalchemy.engine.Engine \n",
            "SELECT EstablishmentName, SchoolLevel, \"DistanceHQDistance (in Km)\"\n",
            "FROM school_details\n",
            "WHERE EstablishmentName LIKE \"%JUNIOR HIGH%\"\n",
            "\n",
            "2021-10-07 00:03:40,268 INFO sqlalchemy.engine.Engine [raw sql] ()\n"
          ]
        },
        {
          "output_type": "execute_result",
          "data": {
            "text/html": [
              "<div>\n",
              "<style scoped>\n",
              "    .dataframe tbody tr th:only-of-type {\n",
              "        vertical-align: middle;\n",
              "    }\n",
              "\n",
              "    .dataframe tbody tr th {\n",
              "        vertical-align: top;\n",
              "    }\n",
              "\n",
              "    .dataframe thead th {\n",
              "        text-align: right;\n",
              "    }\n",
              "</style>\n",
              "<table border=\"1\" class=\"dataframe\">\n",
              "  <thead>\n",
              "    <tr style=\"text-align: right;\">\n",
              "      <th></th>\n",
              "      <th>EstablishmentName</th>\n",
              "      <th>SchoolLevel</th>\n",
              "      <th>\"DistanceHQDistance (in Km)\"</th>\n",
              "    </tr>\n",
              "  </thead>\n",
              "  <tbody>\n",
              "    <tr>\n",
              "      <th>0</th>\n",
              "      <td>CHEURIBOTEY GOVERNMENT JUNIOR HIGH SCHOOL (E)</td>\n",
              "      <td>JHS</td>\n",
              "      <td>DistanceHQDistance (in Km)</td>\n",
              "    </tr>\n",
              "    <tr>\n",
              "      <th>1</th>\n",
              "      <td>SAJONG GOVERNMENT JUNIOR HIGH SCHOOL</td>\n",
              "      <td>JHS</td>\n",
              "      <td>DistanceHQDistance (in Km)</td>\n",
              "    </tr>\n",
              "    <tr>\n",
              "      <th>2</th>\n",
              "      <td>SINGLEYBONG GOVERNMENT JUNIOR HIGH SCHOOL</td>\n",
              "      <td>JHS</td>\n",
              "      <td>DistanceHQDistance (in Km)</td>\n",
              "    </tr>\n",
              "    <tr>\n",
              "      <th>3</th>\n",
              "      <td>BORDANG GOVERNMENT JUNIOR HIGH SCHOOL</td>\n",
              "      <td>JHS</td>\n",
              "      <td>DistanceHQDistance (in Km)</td>\n",
              "    </tr>\n",
              "    <tr>\n",
              "      <th>4</th>\n",
              "      <td>RANGPO BAZAR GOVERNMENT JUNIOR HIGH SCHOOL</td>\n",
              "      <td>JHS</td>\n",
              "      <td>DistanceHQDistance (in Km)</td>\n",
              "    </tr>\n",
              "  </tbody>\n",
              "</table>\n",
              "</div>"
            ],
            "text/plain": [
              "                               EstablishmentName  ... \"DistanceHQDistance (in Km)\"\n",
              "0  CHEURIBOTEY GOVERNMENT JUNIOR HIGH SCHOOL (E)  ...   DistanceHQDistance (in Km)\n",
              "1           SAJONG GOVERNMENT JUNIOR HIGH SCHOOL  ...   DistanceHQDistance (in Km)\n",
              "2      SINGLEYBONG GOVERNMENT JUNIOR HIGH SCHOOL  ...   DistanceHQDistance (in Km)\n",
              "3          BORDANG GOVERNMENT JUNIOR HIGH SCHOOL  ...   DistanceHQDistance (in Km)\n",
              "4     RANGPO BAZAR GOVERNMENT JUNIOR HIGH SCHOOL  ...   DistanceHQDistance (in Km)\n",
              "\n",
              "[5 rows x 3 columns]"
            ]
          },
          "metadata": {},
          "execution_count": 13
        }
      ]
    },
    {
      "cell_type": "markdown",
      "metadata": {
        "id": "8HFsQfZLts0i"
      },
      "source": [
        "## LIMIT & ORDER BY\n",
        "\n",
        "5. Display the EstablishmentName, SchoolLevel, DistrictHQDistance (in Km) for schools where the name of the school starts with the letter \"C.\" Sort the results alphabetically by school name and limit the results of the query to 10 rows."
      ]
    },
    {
      "cell_type": "code",
      "metadata": {
        "id": "kDXqMQjdw2fK",
        "colab": {
          "base_uri": "https://localhost:8080/",
          "height": 345
        },
        "outputId": "51dd6144-4e26-4b00-e042-96fc77de7022"
      },
      "source": [
        "# Write your SQL query in this string\n",
        "sql = \"\"\"\n",
        "SELECT EstablishmentName, SchoolLevel, \"DistanceHQDistance (in Km)\"\n",
        "FROM school_details\n",
        "WHERE EstablishmentName LIKE 'C%'\n",
        "ORDER BY EstablishmentName\n",
        "LIMIT 10\n",
        "\"\"\"\n",
        "\n",
        "# Read the sql query into pandas to view the results\n",
        "df = pd.read_sql_query(sql, engine)\n",
        "df.head()"
      ],
      "execution_count": 16,
      "outputs": [
        {
          "output_type": "stream",
          "name": "stdout",
          "text": [
            "2021-10-07 00:08:32,457 INFO sqlalchemy.engine.Engine \n",
            "SELECT EstablishmentName, SchoolLevel, \"DistanceHQDistance (in Km)\"\n",
            "FROM school_details\n",
            "WHERE EstablishmentName LIKE 'C%'\n",
            "ORDER BY EstablishmentName\n",
            "LIMIT 10\n",
            "\n",
            "2021-10-07 00:08:32,460 INFO sqlalchemy.engine.Engine [raw sql] ()\n"
          ]
        },
        {
          "output_type": "execute_result",
          "data": {
            "text/html": [
              "<div>\n",
              "<style scoped>\n",
              "    .dataframe tbody tr th:only-of-type {\n",
              "        vertical-align: middle;\n",
              "    }\n",
              "\n",
              "    .dataframe tbody tr th {\n",
              "        vertical-align: top;\n",
              "    }\n",
              "\n",
              "    .dataframe thead th {\n",
              "        text-align: right;\n",
              "    }\n",
              "</style>\n",
              "<table border=\"1\" class=\"dataframe\">\n",
              "  <thead>\n",
              "    <tr style=\"text-align: right;\">\n",
              "      <th></th>\n",
              "      <th>EstablishmentName</th>\n",
              "      <th>SchoolLevel</th>\n",
              "      <th>\"DistanceHQDistance (in Km)\"</th>\n",
              "    </tr>\n",
              "  </thead>\n",
              "  <tbody>\n",
              "    <tr>\n",
              "      <th>0</th>\n",
              "      <td>C.M.RAI GOVERNMENT SECONDARY SCHOOL (OMCHU)</td>\n",
              "      <td>SS</td>\n",
              "      <td>DistanceHQDistance (in Km)</td>\n",
              "    </tr>\n",
              "    <tr>\n",
              "      <th>1</th>\n",
              "      <td>CANAAN SCHOOL, RANIPOOL</td>\n",
              "      <td>JHS</td>\n",
              "      <td>DistanceHQDistance (in Km)</td>\n",
              "    </tr>\n",
              "    <tr>\n",
              "      <th>2</th>\n",
              "      <td>CANARY BIRD ACADEMY, KARTOK</td>\n",
              "      <td>PS</td>\n",
              "      <td>DistanceHQDistance (in Km)</td>\n",
              "    </tr>\n",
              "    <tr>\n",
              "      <th>3</th>\n",
              "      <td>CAROL ACADEMY, YANGSUM UPPER BERFOK</td>\n",
              "      <td>JHS</td>\n",
              "      <td>DistanceHQDistance (in Km)</td>\n",
              "    </tr>\n",
              "    <tr>\n",
              "      <th>4</th>\n",
              "      <td>CENTRAL MARTAM GOVERNMENT JUNIOR SCHOOL</td>\n",
              "      <td>JHS</td>\n",
              "      <td>DistanceHQDistance (in Km)</td>\n",
              "    </tr>\n",
              "  </tbody>\n",
              "</table>\n",
              "</div>"
            ],
            "text/plain": [
              "                             EstablishmentName  ... \"DistanceHQDistance (in Km)\"\n",
              "0  C.M.RAI GOVERNMENT SECONDARY SCHOOL (OMCHU)  ...   DistanceHQDistance (in Km)\n",
              "1                      CANAAN SCHOOL, RANIPOOL  ...   DistanceHQDistance (in Km)\n",
              "2                  CANARY BIRD ACADEMY, KARTOK  ...   DistanceHQDistance (in Km)\n",
              "3          CAROL ACADEMY, YANGSUM UPPER BERFOK  ...   DistanceHQDistance (in Km)\n",
              "4      CENTRAL MARTAM GOVERNMENT JUNIOR SCHOOL  ...   DistanceHQDistance (in Km)\n",
              "\n",
              "[5 rows x 3 columns]"
            ]
          },
          "metadata": {},
          "execution_count": 16
        }
      ]
    },
    {
      "cell_type": "markdown",
      "metadata": {
        "id": "oEj7VseBw26j"
      },
      "source": [
        "6. Display the names of schools in urban areas. Sort the results in reverse alphabetical order."
      ]
    },
    {
      "cell_type": "code",
      "metadata": {
        "id": "xw6SGQHQw4dS",
        "colab": {
          "base_uri": "https://localhost:8080/",
          "height": 328
        },
        "outputId": "5c69966a-ccdb-4c5a-9bb7-f1bf9ced7bdd"
      },
      "source": [
        "# Write your SQL query in this string\n",
        "sql = \"\"\"\n",
        "SELECT EstablishmentName\n",
        "FROM school_details\n",
        "WHERE LocatedInRuralOrUrban LIKE \"Urban%\"\n",
        "ORDER BY EstablishmentName DESC\n",
        "\"\"\"\n",
        "\n",
        "# Read the sql query into pandas to view the results\n",
        "df = pd.read_sql_query(sql, engine)\n",
        "df.head()"
      ],
      "execution_count": 21,
      "outputs": [
        {
          "output_type": "stream",
          "name": "stdout",
          "text": [
            "2021-10-07 00:11:53,084 INFO sqlalchemy.engine.Engine \n",
            "SELECT EstablishmentName\n",
            "FROM school_details\n",
            "WHERE LocatedInRuralOrUrban LIKE \"Urban%\"\n",
            "ORDER BY EstablishmentName DESC\n",
            "\n",
            "2021-10-07 00:11:53,089 INFO sqlalchemy.engine.Engine [raw sql] ()\n"
          ]
        },
        {
          "output_type": "execute_result",
          "data": {
            "text/html": [
              "<div>\n",
              "<style scoped>\n",
              "    .dataframe tbody tr th:only-of-type {\n",
              "        vertical-align: middle;\n",
              "    }\n",
              "\n",
              "    .dataframe tbody tr th {\n",
              "        vertical-align: top;\n",
              "    }\n",
              "\n",
              "    .dataframe thead th {\n",
              "        text-align: right;\n",
              "    }\n",
              "</style>\n",
              "<table border=\"1\" class=\"dataframe\">\n",
              "  <thead>\n",
              "    <tr style=\"text-align: right;\">\n",
              "      <th></th>\n",
              "      <th>EstablishmentName</th>\n",
              "    </tr>\n",
              "  </thead>\n",
              "  <tbody>\n",
              "    <tr>\n",
              "      <th>0</th>\n",
              "      <td>ZULUCK GOVERNMENT PRIMARY SCHOOL</td>\n",
              "    </tr>\n",
              "    <tr>\n",
              "      <th>1</th>\n",
              "      <td>ZOOM GOVERNMENT SECONDARY SCHOOL</td>\n",
              "    </tr>\n",
              "    <tr>\n",
              "      <th>2</th>\n",
              "      <td>ZITLANG GOVERNMENT JUNIOR HIGH SCHOOL</td>\n",
              "    </tr>\n",
              "    <tr>\n",
              "      <th>3</th>\n",
              "      <td>ZINGLA GOVERNMENT PRIMARY SCHOOL</td>\n",
              "    </tr>\n",
              "    <tr>\n",
              "      <th>4</th>\n",
              "      <td>ZENITH PUBLIC SCHOOL</td>\n",
              "    </tr>\n",
              "  </tbody>\n",
              "</table>\n",
              "</div>"
            ],
            "text/plain": [
              "                       EstablishmentName\n",
              "0       ZULUCK GOVERNMENT PRIMARY SCHOOL\n",
              "1       ZOOM GOVERNMENT SECONDARY SCHOOL\n",
              "2  ZITLANG GOVERNMENT JUNIOR HIGH SCHOOL\n",
              "3       ZINGLA GOVERNMENT PRIMARY SCHOOL\n",
              "4                   ZENITH PUBLIC SCHOOL"
            ]
          },
          "metadata": {},
          "execution_count": 21
        }
      ]
    },
    {
      "cell_type": "markdown",
      "metadata": {
        "id": "-2hdNdaaw482"
      },
      "source": [
        "## Aliasing\n",
        "\n",
        "7. Repeat the previous query, but rename the column displayed to \"name\"."
      ]
    },
    {
      "cell_type": "code",
      "metadata": {
        "id": "vDQJQ1RWw5sD",
        "colab": {
          "base_uri": "https://localhost:8080/",
          "height": 328
        },
        "outputId": "3ebea357-1e8b-428b-90af-75a1cf479998"
      },
      "source": [
        "# Write your SQL query in this string\n",
        "sql = \"\"\"\n",
        "SELECT EstablishmentName AS name\n",
        "FROM school_details\n",
        "WHERE LocatedInRuralOrUrban LIKE \"Urban%\"\n",
        "ORDER BY EstablishmentName DESC\n",
        "\"\"\"\n",
        "\n",
        "# Read the sql query into pandas to view the results\n",
        "df = pd.read_sql_query(sql, engine)\n",
        "df.head()"
      ],
      "execution_count": 22,
      "outputs": [
        {
          "output_type": "stream",
          "name": "stdout",
          "text": [
            "2021-10-07 00:15:13,130 INFO sqlalchemy.engine.Engine \n",
            "SELECT EstablishmentName AS name\n",
            "FROM school_details\n",
            "WHERE LocatedInRuralOrUrban LIKE \"Urban%\"\n",
            "ORDER BY EstablishmentName DESC\n",
            "\n",
            "2021-10-07 00:15:13,132 INFO sqlalchemy.engine.Engine [raw sql] ()\n"
          ]
        },
        {
          "output_type": "execute_result",
          "data": {
            "text/html": [
              "<div>\n",
              "<style scoped>\n",
              "    .dataframe tbody tr th:only-of-type {\n",
              "        vertical-align: middle;\n",
              "    }\n",
              "\n",
              "    .dataframe tbody tr th {\n",
              "        vertical-align: top;\n",
              "    }\n",
              "\n",
              "    .dataframe thead th {\n",
              "        text-align: right;\n",
              "    }\n",
              "</style>\n",
              "<table border=\"1\" class=\"dataframe\">\n",
              "  <thead>\n",
              "    <tr style=\"text-align: right;\">\n",
              "      <th></th>\n",
              "      <th>name</th>\n",
              "    </tr>\n",
              "  </thead>\n",
              "  <tbody>\n",
              "    <tr>\n",
              "      <th>0</th>\n",
              "      <td>ZULUCK GOVERNMENT PRIMARY SCHOOL</td>\n",
              "    </tr>\n",
              "    <tr>\n",
              "      <th>1</th>\n",
              "      <td>ZOOM GOVERNMENT SECONDARY SCHOOL</td>\n",
              "    </tr>\n",
              "    <tr>\n",
              "      <th>2</th>\n",
              "      <td>ZITLANG GOVERNMENT JUNIOR HIGH SCHOOL</td>\n",
              "    </tr>\n",
              "    <tr>\n",
              "      <th>3</th>\n",
              "      <td>ZINGLA GOVERNMENT PRIMARY SCHOOL</td>\n",
              "    </tr>\n",
              "    <tr>\n",
              "      <th>4</th>\n",
              "      <td>ZENITH PUBLIC SCHOOL</td>\n",
              "    </tr>\n",
              "  </tbody>\n",
              "</table>\n",
              "</div>"
            ],
            "text/plain": [
              "                                    name\n",
              "0       ZULUCK GOVERNMENT PRIMARY SCHOOL\n",
              "1       ZOOM GOVERNMENT SECONDARY SCHOOL\n",
              "2  ZITLANG GOVERNMENT JUNIOR HIGH SCHOOL\n",
              "3       ZINGLA GOVERNMENT PRIMARY SCHOOL\n",
              "4                   ZENITH PUBLIC SCHOOL"
            ]
          },
          "metadata": {},
          "execution_count": 22
        }
      ]
    },
    {
      "cell_type": "code",
      "metadata": {
        "id": "a49BF5JpyUwT"
      },
      "source": [
        "# Close the database connection\n",
        "conn.close()"
      ],
      "execution_count": 23,
      "outputs": []
    }
  ]
}